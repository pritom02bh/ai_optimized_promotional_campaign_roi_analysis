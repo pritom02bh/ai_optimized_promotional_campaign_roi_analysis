{
 "cells": [
  {
   "cell_type": "code",
   "execution_count": 1,
   "metadata": {},
   "outputs": [],
   "source": [
    "# Required libraries\n",
    "import os\n",
    "import pandas as pd\n",
    "import numpy as np\n",
    "import matplotlib.pyplot as plt\n",
    "import seaborn as sns\n",
    "from sklearn.preprocessing import StandardScaler\n",
    "from sklearn.cluster import KMeans\n",
    "from sklearn.model_selection import train_test_split\n",
    "from datetime import datetime"
   ]
  },
  {
   "cell_type": "markdown",
   "metadata": {},
   "source": [
    "#### Data loading & initial processing"
   ]
  },
  {
   "cell_type": "code",
   "execution_count": 2,
   "metadata": {},
   "outputs": [],
   "source": [
    "# Load the datasets\n",
    "customers_df = pd.read_csv(r'E:\\ai_optimized_promotional_campaign_roi_analysis\\data\\customer_data.csv')\n",
    "transactions_df = pd.read_csv(r'E:\\ai_optimized_promotional_campaign_roi_analysis\\data\\transaction_data.csv')\n",
    "campaigns_df = pd.read_csv(r'E:\\ai_optimized_promotional_campaign_roi_analysis\\data\\campaign_data.csv')\n",
    "products_df = pd.read_csv(r'E:\\ai_optimized_promotional_campaign_roi_analysis\\data\\product_data.csv')\n",
    "behavioral_df = pd.read_csv(r'E:\\ai_optimized_promotional_campaign_roi_analysis\\data\\behavioral_data.csv')\n",
    "\n",
    "# Convert date columns\n",
    "date_columns = {\n",
    "    'transactions_df': ['transaction_date'],\n",
    "    'campaigns_df': ['start_date', 'end_date'],\n",
    "    'behavioral_df': ['event_date']\n",
    "}\n",
    "\n",
    "for df_name, columns in date_columns.items():\n",
    "    for col in columns:\n",
    "        locals()[df_name][col] = pd.to_datetime(locals()[df_name][col])"
   ]
  },
  {
   "cell_type": "markdown",
   "metadata": {},
   "source": [
    "#### Analysis Framework"
   ]
  },
  {
   "cell_type": "markdown",
   "metadata": {},
   "source": [
    "##### A. Customer Sagement Analysis: RFM Analysis"
   ]
  },
  {
   "cell_type": "code",
   "execution_count": 5,
   "metadata": {},
   "outputs": [
    {
     "name": "stdout",
     "output_type": "stream",
     "text": [
      "Total Customers: 183757\n",
      "\n",
      "Customer Segment Distribution:\n",
      "Average Customers: 63254 customers (34.4%)\n",
      "Loyal Customers: 35530 customers (19.3%)\n",
      "Lost Customers: 32188 customers (17.5%)\n",
      "Champions: 31011 customers (16.9%)\n",
      "New Customers: 18207 customers (9.9%)\n",
      "Lost Big Spenders: 3567 customers (1.9%)\n"
     ]
    }
   ],
   "source": [
    "def calculate_rfm_metrics(transactions_df, end_date=None):\n",
    "    \"\"\"\n",
    "    Calculate RFM metrics and scores for customer segmentation.\n",
    "    \n",
    "    Parameters:\n",
    "    transactions_df (pd.DataFrame): DataFrame containing columns: \n",
    "        customer_id, transaction_date, transaction_id, final_amount\n",
    "    end_date (datetime, optional): Reference date for recency calculation. \n",
    "        Defaults to max transaction date.\n",
    "    \n",
    "    Returns:\n",
    "    pd.DataFrame: DataFrame with RFM metrics and segments\n",
    "    \"\"\"\n",
    "    # Set end_date if not provided\n",
    "    if end_date is None:\n",
    "        end_date = transactions_df['transaction_date'].max()\n",
    "    \n",
    "    # Calculate base RFM metrics\n",
    "    rfm = transactions_df.groupby('customer_id').agg({\n",
    "        'transaction_date': lambda x: (end_date - x.max()).days,  # Recency\n",
    "        'transaction_id': 'count',  # Frequency\n",
    "        'final_amount': ['sum', 'mean']  # Monetary (total and average)\n",
    "    })\n",
    "    \n",
    "    # Flatten column names\n",
    "    rfm.columns = ['recency', 'frequency', 'monetary_total', 'monetary_avg']\n",
    "    \n",
    "    # Calculate RFM scores (1-5 scale, 5 being best)\n",
    "    rfm['R_score'] = pd.qcut(rfm['recency'], q=5, labels=[5, 4, 3, 2, 1])\n",
    "    rfm['F_score'] = pd.qcut(rfm['frequency'].rank(method='first'), q=5, labels=[1, 2, 3, 4, 5])\n",
    "    rfm['M_score'] = pd.qcut(rfm['monetary_total'].rank(method='first'), q=5, labels=[1, 2, 3, 4, 5])\n",
    "    \n",
    "    # Calculate overall RFM Score\n",
    "    rfm['RFM_score'] = rfm['R_score'].astype(str) + rfm['F_score'].astype(str) + rfm['M_score'].astype(str)\n",
    "    \n",
    "    # Add customer segments\n",
    "    def segment_customers(row):\n",
    "        if row['R_score'] >= 4 and row['F_score'] >= 4 and row['M_score'] >= 4:\n",
    "            return 'Champions'\n",
    "        elif row['R_score'] >= 3 and row['F_score'] >= 3 and row['M_score'] >= 3:\n",
    "            return 'Loyal Customers'\n",
    "        elif row['R_score'] >= 4 and row['F_score'] <= 2:\n",
    "            return 'New Customers'\n",
    "        elif row['R_score'] <= 2 and row['F_score'] <= 2 and row['M_score'] <= 2:\n",
    "            return 'Lost Customers'\n",
    "        elif row['R_score'] >= 3 and row['F_score'] <= 2 and row['M_score'] >= 3:\n",
    "            return 'Lost Big Spenders'\n",
    "        else:\n",
    "            return 'Average Customers'\n",
    "    \n",
    "    rfm['customer_segment'] = rfm.apply(segment_customers, axis=1)\n",
    "    \n",
    "    return rfm\n",
    "\n",
    "def analyze_rfm_results(rfm_df):\n",
    "    \"\"\"\n",
    "    Generate summary statistics and insights from RFM analysis.\n",
    "    \"\"\"\n",
    "    summary = {\n",
    "        'total_customers': len(rfm_df),\n",
    "        'segment_distribution': rfm_df['customer_segment'].value_counts().to_dict(),\n",
    "        'avg_metrics_by_segment': rfm_df.groupby('customer_segment').agg({\n",
    "            'recency': 'mean',\n",
    "            'frequency': 'mean',\n",
    "            'monetary_total': 'mean',\n",
    "            'monetary_avg': 'mean'\n",
    "        }).round(2).to_dict()\n",
    "    }\n",
    "    return summary\n",
    "\n",
    "# Example usage:\n",
    "rfm_df = calculate_rfm_metrics(transactions_df)\n",
    "summary = analyze_rfm_results(rfm_df)\n",
    "\n",
    "# Print summary\n",
    "print(\"Total Customers:\", summary['total_customers'])\n",
    "print(\"\\nCustomer Segment Distribution:\")\n",
    "for segment, count in summary['segment_distribution'].items():\n",
    "    print(f\"{segment}: {count} customers ({(count/summary['total_customers']*100):.1f}%)\")"
   ]
  },
  {
   "cell_type": "markdown",
   "metadata": {},
   "source": [
    "##### B. Behavioral Segmentation"
   ]
  },
  {
   "cell_type": "code",
   "execution_count": null,
   "metadata": {},
   "outputs": [],
   "source": []
  }
 ],
 "metadata": {
  "kernelspec": {
   "display_name": ".venv",
   "language": "python",
   "name": "python3"
  },
  "language_info": {
   "codemirror_mode": {
    "name": "ipython",
    "version": 3
   },
   "file_extension": ".py",
   "mimetype": "text/x-python",
   "name": "python",
   "nbconvert_exporter": "python",
   "pygments_lexer": "ipython3",
   "version": "3.13.1"
  }
 },
 "nbformat": 4,
 "nbformat_minor": 2
}
